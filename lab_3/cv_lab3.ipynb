{
 "cells": [
  {
   "cell_type": "code",
   "execution_count": 1,
   "metadata": {},
   "outputs": [],
   "source": [
    "from PIL import Image, ImageDraw\n",
    "import numpy as np\n",
    "import copy"
   ]
  },
  {
   "cell_type": "code",
   "execution_count": 2,
   "metadata": {},
   "outputs": [],
   "source": [
    "def display_np(*imgs):\n",
    "    \"\"\"\n",
    "    Display a numpy array as an image\n",
    "    \"\"\"\n",
    "    for im in imgs:\n",
    "        result = Image.fromarray(im.astype('uint8'))\n",
    "        result.show()"
   ]
  },
  {
   "cell_type": "code",
   "execution_count": 3,
   "metadata": {},
   "outputs": [],
   "source": [
    "def check_range(*x): \n",
    "    for x_ in x:\n",
    "        print(np.min(x_), np.max(x_))"
   ]
  },
  {
   "cell_type": "code",
   "execution_count": 4,
   "metadata": {},
   "outputs": [],
   "source": [
    "def read_image(x, mode = None):\n",
    "    x = Image.open(x).convert(mode)\n",
    "    x = np.array(x)\n",
    "    return x"
   ]
  },
  {
   "cell_type": "code",
   "execution_count": 5,
   "metadata": {},
   "outputs": [],
   "source": [
    "def normalize(input_im): \n",
    "    base = input_im.min() \n",
    "    roof = input_im.max() \n",
    "    diff = roof - base \n",
    "    scale = diff /255\n",
    "\n",
    "    input_im = input_im - base \n",
    "    output = input_im/scale\n",
    "    return output"
   ]
  },
  {
   "cell_type": "code",
   "execution_count": 6,
   "metadata": {},
   "outputs": [],
   "source": [
    "im = read_image('trial_2.png', 'L')"
   ]
  },
  {
   "cell_type": "code",
   "execution_count": 7,
   "metadata": {},
   "outputs": [],
   "source": [
    "display_np(im)"
   ]
  },
  {
   "cell_type": "code",
   "execution_count": 8,
   "metadata": {},
   "outputs": [],
   "source": [
    "def conv1d(image, kernel, order = 'C', div = 1, norm = True):\n",
    "    \"\"\"\n",
    "    Performs 1d convolution on an image\n",
    "    \"\"\"\n",
    "    \n",
    "    im = copy.deepcopy(image.flatten())\n",
    "    k = copy.deepcopy(kernel.flatten(order = order))\n",
    "\n",
    "    size = len(k)\n",
    "    to_remove = len(k) - 1\n",
    "    \n",
    "    output = np.full((im.shape), 255)\n",
    "    for i in range(len(im) - to_remove):\n",
    "        output[i] = np.sum(k * im[i:i+size]) / div\n",
    "    output = output.reshape(image.shape)\n",
    "    if norm: output = normalize(output)\n",
    "    return output"
   ]
  },
  {
   "cell_type": "code",
   "execution_count": 9,
   "metadata": {},
   "outputs": [],
   "source": [
    "dx = np.array([-1, 1])"
   ]
  },
  {
   "cell_type": "code",
   "execution_count": 10,
   "metadata": {},
   "outputs": [],
   "source": [
    "Ix = conv1d(im, dx)\n",
    "Iy = conv1d(im.T, dx).T"
   ]
  },
  {
   "cell_type": "code",
   "execution_count": 11,
   "metadata": {},
   "outputs": [
    {
     "name": "stdout",
     "output_type": "stream",
     "text": [
      "0.0 255.0\n",
      "0.0 254.99999999999997\n"
     ]
    }
   ],
   "source": [
    "check_range(Ix, Iy)"
   ]
  },
  {
   "cell_type": "code",
   "execution_count": 12,
   "metadata": {},
   "outputs": [],
   "source": [
    "display_np(Ix, Iy)"
   ]
  },
  {
   "cell_type": "code",
   "execution_count": 13,
   "metadata": {},
   "outputs": [],
   "source": [
    "Ix2 = normalize(Ix * Ix)\n",
    "Ixy = normalize(Ix * Iy)\n",
    "Iy2 = normalize(Iy * Iy)"
   ]
  },
  {
   "cell_type": "code",
   "execution_count": 14,
   "metadata": {},
   "outputs": [
    {
     "name": "stdout",
     "output_type": "stream",
     "text": [
      "0.0 255.0\n",
      "0.0 255.0\n",
      "0.0 255.0\n"
     ]
    }
   ],
   "source": [
    "check_range(Ix2, Ixy, Iy2)"
   ]
  },
  {
   "cell_type": "code",
   "execution_count": 15,
   "metadata": {},
   "outputs": [],
   "source": [
    "display_np(Ix2, Ixy, Iy2)"
   ]
  },
  {
   "cell_type": "code",
   "execution_count": 16,
   "metadata": {},
   "outputs": [],
   "source": [
    "def conv2d(image, kernel, div = 1, norm = True):\n",
    "    \"\"\"\n",
    "    Applies 2d convolution on a 2d image. Also works with rectangular kernels\n",
    "    \"\"\"\n",
    "\n",
    "    # number of rows and columns of the kernel\n",
    "    r = kernel.shape[0]\n",
    "    c = kernel.shape[1]\n",
    "\n",
    "    # initialize a canvas for the output with 255s. We will fill values in this\n",
    "    output = np.full(image.shape, 255)\n",
    "    for i in range(image.shape[0] - r - 1):\n",
    "        for j in range(image.shape[1] - c - 1):\n",
    "            output[i][j] = np.sum(kernel * image[i:i+r, j:j+c]) / div\n",
    "    if norm: output = normalize(output)\n",
    "    return output"
   ]
  },
  {
   "cell_type": "code",
   "execution_count": 17,
   "metadata": {},
   "outputs": [
    {
     "data": {
      "text/plain": [
       "array([[1., 1., 1.],\n",
       "       [1., 1., 1.],\n",
       "       [1., 1., 1.]])"
      ]
     },
     "execution_count": 17,
     "metadata": {},
     "output_type": "execute_result"
    }
   ],
   "source": [
    "b = np.ones((3,3))\n",
    "b"
   ]
  },
  {
   "cell_type": "code",
   "execution_count": 1,
   "metadata": {},
   "outputs": [],
   "source": [
    "# Aw = conv2d(Ix2, b)\n",
    "# Bw = conv2d(Ixy, b)\n",
    "# Cw = conv2d(Iy2, b)"
   ]
  },
  {
   "cell_type": "code",
   "execution_count": 19,
   "metadata": {},
   "outputs": [
    {
     "name": "stdout",
     "output_type": "stream",
     "text": [
      "0.0 255.0\n",
      "0.0 255.0\n",
      "0.0 255.0\n"
     ]
    }
   ],
   "source": [
    "check_range(Aw, Bw, Cw)"
   ]
  },
  {
   "cell_type": "code",
   "execution_count": 20,
   "metadata": {},
   "outputs": [],
   "source": [
    "# display_np(Aw, Bw, Cw)"
   ]
  },
  {
   "cell_type": "code",
   "execution_count": 21,
   "metadata": {},
   "outputs": [
    {
     "data": {
      "text/plain": [
       "((824, 824), (824, 824), (824, 824), (824, 824))"
      ]
     },
     "execution_count": 21,
     "metadata": {},
     "output_type": "execute_result"
    }
   ],
   "source": [
    "Aw.shape, Bw.shape, Cw.shape, im.shape"
   ]
  },
  {
   "cell_type": "code",
   "execution_count": 27,
   "metadata": {},
   "outputs": [],
   "source": [
    "T = 5.3\n",
    "op_img = Image.open('trial_2.png')\n",
    "draw = ImageDraw.Draw(op_img)\n",
    "for i in range(im.shape[0]):\n",
    "    for j in range(im.shape[1]):\n",
    "        eigv, eigvec = np.linalg.eig(np.array([[Aw[i,j], Bw[i,j]],\n",
    "                                               [Bw[i,j], Cw[i,j]]]))\n",
    "        m = min(eigv)\n",
    "        if m > T:\n",
    "            draw.line(((j-5,i) ,(j+5,i)), fill =(255,0,0))\n",
    "            draw.line(((j,i-5),(j,i+5)), fill=(255,0,0))\n",
    "op_img.show()"
   ]
  },
  {
   "cell_type": "code",
   "execution_count": null,
   "metadata": {},
   "outputs": [],
   "source": []
  }
 ],
 "metadata": {
  "kernelspec": {
   "display_name": "Python 3",
   "language": "python",
   "name": "python3"
  },
  "language_info": {
   "codemirror_mode": {
    "name": "ipython",
    "version": 3
   },
   "file_extension": ".py",
   "mimetype": "text/x-python",
   "name": "python",
   "nbconvert_exporter": "python",
   "pygments_lexer": "ipython3",
   "version": "3.7.3"
  }
 },
 "nbformat": 4,
 "nbformat_minor": 2
}
