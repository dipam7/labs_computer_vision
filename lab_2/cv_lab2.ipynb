{
 "cells": [
  {
   "cell_type": "code",
   "execution_count": 1,
   "metadata": {},
   "outputs": [],
   "source": [
    "from PIL import Image, ImageDraw\n",
    "from path import Path\n",
    "import numpy as np\n",
    "from scipy import fftpack\n",
    "import imageio"
   ]
  },
  {
   "cell_type": "code",
   "execution_count": 2,
   "metadata": {},
   "outputs": [
    {
     "name": "stdout",
     "output_type": "stream",
     "text": [
      "README.md            pilot_and_plane.png  plane_and_pilot.png\r\n",
      "cv_lab2.ipynb        pilot_fft.png        plane_fft.png\r\n",
      "cv_lab2.py           plane1.jpg\r\n",
      "pilot.jpg            plane2.png\r\n"
     ]
    }
   ],
   "source": [
    "%ls"
   ]
  },
  {
   "cell_type": "code",
   "execution_count": 3,
   "metadata": {},
   "outputs": [],
   "source": [
    "def display_np(x):\n",
    "    \"\"\"\n",
    "    Display a numpy array as an image\n",
    "    \"\"\"\n",
    "    result = Image.fromarray(x.astype('uint8'))\n",
    "    result.show()"
   ]
  },
  {
   "cell_type": "code",
   "execution_count": 4,
   "metadata": {},
   "outputs": [],
   "source": [
    "def read_image(x):\n",
    "    x = Image.open(x).convert(\"L\")\n",
    "    x = np.array(x)\n",
    "    return x"
   ]
  },
  {
   "cell_type": "code",
   "execution_count": 5,
   "metadata": {},
   "outputs": [],
   "source": [
    "plane = read_image('plane2.png')\n",
    "pilot = read_image(\"pilot.jpg\")"
   ]
  },
  {
   "cell_type": "code",
   "execution_count": 6,
   "metadata": {},
   "outputs": [],
   "source": [
    "display_np(pilot)\n",
    "display_np(plane)"
   ]
  },
  {
   "cell_type": "code",
   "execution_count": 7,
   "metadata": {},
   "outputs": [
    {
     "data": {
      "text/plain": [
       "((946, 1178), (470, 299))"
      ]
     },
     "execution_count": 7,
     "metadata": {},
     "output_type": "execute_result"
    }
   ],
   "source": [
    "plane.shape, pilot.shape"
   ]
  },
  {
   "cell_type": "code",
   "execution_count": 8,
   "metadata": {},
   "outputs": [],
   "source": [
    "r,c = 100,425\n",
    "plane = plane[r:r + 470, c: c + 299]"
   ]
  },
  {
   "cell_type": "code",
   "execution_count": 9,
   "metadata": {},
   "outputs": [
    {
     "data": {
      "text/plain": [
       "((470, 299), (470, 299))"
      ]
     },
     "execution_count": 9,
     "metadata": {},
     "output_type": "execute_result"
    }
   ],
   "source": [
    "plane.shape, pilot.shape"
   ]
  },
  {
   "cell_type": "code",
   "execution_count": 10,
   "metadata": {},
   "outputs": [],
   "source": [
    "# display_np(plane[0:300, 0:299])\n",
    "# display_np(pilot[0:300, 0:299])"
   ]
  },
  {
   "cell_type": "code",
   "execution_count": 11,
   "metadata": {},
   "outputs": [],
   "source": [
    "assert plane.shape == pilot.shape"
   ]
  },
  {
   "cell_type": "code",
   "execution_count": 12,
   "metadata": {},
   "outputs": [],
   "source": [
    "pilot_fft = fftpack.fftshift(fftpack.fft2(pilot))\n",
    "plane_fft = fftpack.fftshift(fftpack.fft2(plane))"
   ]
  },
  {
   "cell_type": "code",
   "execution_count": 13,
   "metadata": {},
   "outputs": [],
   "source": [
    "imageio.imsave('pilot_fft.png', (np.log(abs(pilot_fft))* 255 /np.amax(np.log(abs(pilot_fft)))).astype(np.uint8))\n",
    "imageio.imsave('plane_fft.png', (np.log(abs(plane_fft))* 255 /np.amax(np.log(abs(plane_fft)))).astype(np.uint8))"
   ]
  },
  {
   "cell_type": "code",
   "execution_count": 14,
   "metadata": {},
   "outputs": [],
   "source": [
    "def filter_im(im, high = False, radius = 70):\n",
    "    eX, eY = radius, radius\n",
    "    x, y = im.shape[1], im.shape[0]\n",
    "    bbox = (x/2 - eX/2, y/2 - eY/2, x/2 + eX/2, y/2 + eY/2)\n",
    "    \n",
    "    color = 255 if not high else 0\n",
    "    fill  = 0 if not high else 255\n",
    "    fpass = Image.new(\"L\", (im.shape[1], im.shape[0]), color=color) \n",
    "    draw = ImageDraw.Draw(fpass)\n",
    "    draw.ellipse(bbox, fill=fill)\n",
    "    return np.array(fpass)"
   ]
  },
  {
   "cell_type": "code",
   "execution_count": 15,
   "metadata": {},
   "outputs": [],
   "source": [
    "pilot_im = read_image('pilot_fft.png')\n",
    "plane_im = read_image('plane_fft.png')"
   ]
  },
  {
   "cell_type": "code",
   "execution_count": 16,
   "metadata": {},
   "outputs": [],
   "source": [
    "pilot_low = filter_im(pilot_im)\n",
    "pilot_high = filter_im(pilot_im, True)\n",
    "\n",
    "plane_low = filter_im(plane_im)\n",
    "plane_high = filter_im(plane_im, True)"
   ]
  },
  {
   "cell_type": "code",
   "execution_count": 17,
   "metadata": {},
   "outputs": [],
   "source": [
    "# display_np(pilot_low)\n",
    "# display_np(pilot_high)"
   ]
  },
  {
   "cell_type": "code",
   "execution_count": 18,
   "metadata": {},
   "outputs": [],
   "source": [
    "def join_im(f1, f2, im1, im2):\n",
    "    assert im1.shape == im2.shape\n",
    "    \n",
    "    canvas = np.full(im1.shape, 255, dtype = complex)\n",
    "    for i in range(im1.shape[0]):\n",
    "        for j in range(im1.shape[1]):\n",
    "            if f1[i,j] == 0: canvas[i,j] = im1[i,j]\n",
    "            else: canvas[i,j] = im2[i,j]\n",
    "    return canvas"
   ]
  },
  {
   "cell_type": "code",
   "execution_count": 19,
   "metadata": {},
   "outputs": [],
   "source": [
    "pp1 = join_im(pilot_low, plane_high, pilot_fft, plane_fft)\n",
    "pp2 = join_im(pilot_high, plane_low, pilot_fft, plane_fft)"
   ]
  },
  {
   "cell_type": "code",
   "execution_count": 20,
   "metadata": {},
   "outputs": [],
   "source": [
    "ifft1 = abs(fftpack.ifft2(fftpack.ifftshift(pp1)))\n",
    "ifft2 = abs(fftpack.ifft2(fftpack.ifftshift(pp2)))"
   ]
  },
  {
   "cell_type": "code",
   "execution_count": 21,
   "metadata": {},
   "outputs": [],
   "source": [
    "display_np(ifft1)\n",
    "display_np(ifft2)"
   ]
  },
  {
   "cell_type": "code",
   "execution_count": 22,
   "metadata": {},
   "outputs": [],
   "source": [
    "imageio.imsave('plane_and_pilot.png', ifft1.astype(np.uint8))\n",
    "imageio.imsave('pilot_and_plane.png', ifft2.astype(np.uint8))"
   ]
  },
  {
   "cell_type": "code",
   "execution_count": null,
   "metadata": {},
   "outputs": [],
   "source": []
  }
 ],
 "metadata": {
  "kernelspec": {
   "display_name": "Python 3",
   "language": "python",
   "name": "python3"
  },
  "language_info": {
   "codemirror_mode": {
    "name": "ipython",
    "version": 3
   },
   "file_extension": ".py",
   "mimetype": "text/x-python",
   "name": "python",
   "nbconvert_exporter": "python",
   "pygments_lexer": "ipython3",
   "version": "3.7.3"
  }
 },
 "nbformat": 4,
 "nbformat_minor": 2
}
