{
 "cells": [
  {
   "cell_type": "code",
   "execution_count": 1,
   "metadata": {},
   "outputs": [],
   "source": [
    "from PIL import Image\n",
    "from PIL import ImageFilter\n",
    "import numpy as np\n",
    "from matplotlib import pyplot as plt"
   ]
  },
  {
   "cell_type": "code",
   "execution_count": 2,
   "metadata": {},
   "outputs": [],
   "source": [
    "im = Image.open('sample.jpg')"
   ]
  },
  {
   "cell_type": "code",
   "execution_count": 3,
   "metadata": {},
   "outputs": [
    {
     "data": {
      "text/plain": [
       "array([[0., 0., 0.],\n",
       "       [0., 1., 0.],\n",
       "       [0., 0., 0.]])"
      ]
     },
     "execution_count": 3,
     "metadata": {},
     "output_type": "execute_result"
    }
   ],
   "source": [
    "a = np.zeros((3,3))\n",
    "a[1,1] = 1\n",
    "a"
   ]
  },
  {
   "cell_type": "code",
   "execution_count": 4,
   "metadata": {},
   "outputs": [
    {
     "data": {
      "text/plain": [
       "array([[1., 1., 1.],\n",
       "       [1., 1., 1.],\n",
       "       [1., 1., 1.]])"
      ]
     },
     "execution_count": 4,
     "metadata": {},
     "output_type": "execute_result"
    }
   ],
   "source": [
    "b = np.ones((3,3))\n",
    "b"
   ]
  },
  {
   "cell_type": "code",
   "execution_count": 5,
   "metadata": {},
   "outputs": [
    {
     "data": {
      "text/plain": [
       "array([[ 0.,  0.,  0.],\n",
       "       [-1.,  0.,  1.],\n",
       "       [ 0.,  0.,  0.]])"
      ]
     },
     "execution_count": 5,
     "metadata": {},
     "output_type": "execute_result"
    }
   ],
   "source": [
    "c = np.zeros((3,3))\n",
    "c[1,0], c[1,2] = -1, 1\n",
    "c"
   ]
  },
  {
   "cell_type": "code",
   "execution_count": 6,
   "metadata": {},
   "outputs": [
    {
     "data": {
      "text/plain": [
       "array([[0.003, 0.013, 0.022, 0.013, 0.003],\n",
       "       [0.013, 0.059, 0.097, 0.059, 0.013],\n",
       "       [0.022, 0.097, 0.159, 0.097, 0.022],\n",
       "       [0.013, 0.059, 0.097, 0.059, 0.013],\n",
       "       [0.003, 0.013, 0.022, 0.013, 0.003]])"
      ]
     },
     "execution_count": 6,
     "metadata": {},
     "output_type": "execute_result"
    }
   ],
   "source": [
    "d = np.array([[0.003,0.013,0.022,0.013,0.003],\n",
    "             [0.013,0.059,0.097,0.059,0.013],\n",
    "             [0.022,0.097,0.159,0.097,0.022],\n",
    "             [0.013,0.059,0.097,0.059,0.013],\n",
    "             [0.003,0.013,0.022,0.013,0.003]])\n",
    "d"
   ]
  },
  {
   "cell_type": "code",
   "execution_count": 7,
   "metadata": {},
   "outputs": [
    {
     "data": {
      "text/plain": [
       "array([[-0.003, -0.013, -0.022, -0.013, -0.003],\n",
       "       [-0.013, -0.059, -0.097, -0.059, -0.013],\n",
       "       [-0.022, -0.097,  1.741, -0.097, -0.022],\n",
       "       [-0.013, -0.059, -0.097, -0.059, -0.013],\n",
       "       [-0.003, -0.013, -0.022, -0.013, -0.003]])"
      ]
     },
     "execution_count": 7,
     "metadata": {},
     "output_type": "execute_result"
    }
   ],
   "source": [
    "e = np.zeros((5,5))\n",
    "e[1:4,1:4] = a\n",
    "alpha = 0.9 + 1\n",
    "e = e * alpha - d\n",
    "e"
   ]
  },
  {
   "cell_type": "code",
   "execution_count": 8,
   "metadata": {},
   "outputs": [
    {
     "data": {
      "text/plain": [
       "array([[ 0.   ,  0.   ,  0.   ,  0.   ,  0.   ],\n",
       "       [ 0.   ,  0.   ,  0.   ,  0.   ,  0.   ],\n",
       "       [ 0.   , -0.097,  0.   ,  0.097,  0.   ],\n",
       "       [ 0.   ,  0.   ,  0.   ,  0.   ,  0.   ],\n",
       "       [ 0.   ,  0.   ,  0.   ,  0.   ,  0.   ]])"
      ]
     },
     "execution_count": 8,
     "metadata": {},
     "output_type": "execute_result"
    }
   ],
   "source": [
    "f = np.zeros((5,5))\n",
    "f[1:4,1:4] = c\n",
    "f = f * d\n",
    "f"
   ]
  },
  {
   "cell_type": "code",
   "execution_count": 9,
   "metadata": {},
   "outputs": [],
   "source": [
    "def check_range(x): return (np.min(x), np.max(x))"
   ]
  },
  {
   "cell_type": "code",
   "execution_count": 10,
   "metadata": {},
   "outputs": [],
   "source": [
    "def convolve(image, kernel, kernel_name, div = 1):\n",
    "    \n",
    "    # get the pixel values\n",
    "    pixels = np.array(image)\n",
    "#     print(check_range(pixels))\n",
    "\n",
    "    # this assumes the kernel is square\n",
    "    to_remove = 4 if kernel.shape[0] == 5 else 2\n",
    "    \n",
    "    # how much subset of the image to take at a time eg 3*3\n",
    "    size = kernel.shape[0]\n",
    "    \n",
    "    # initialize a canvas for the output with 0s. We will fill values in this\n",
    "    output = np.zeros((pixels.shape[0] - to_remove, pixels.shape[1] - to_remove, pixels.shape[2]))\n",
    "    for ch in range(pixels.shape[2]):\n",
    "        for j in range(pixels.shape[1] - to_remove):\n",
    "            for i in range(pixels.shape[0] - to_remove):\n",
    "                output[i][j][ch] = np.sum(kernel * pixels[i:i+size, j:j+size, ch]) / div\n",
    "#     print(check_range(output))\n",
    "    if check_range(output)[0] < 0:\n",
    "        np.clip(output, 0, 255, out=output)\n",
    "    result = Image.fromarray(output.astype('uint8'))\n",
    "    result.save(kernel_name + \".jpg\")\n",
    "#     image.show()\n",
    "#     result.show()"
   ]
  },
  {
   "cell_type": "code",
   "execution_count": 11,
   "metadata": {},
   "outputs": [],
   "source": [
    "convolve(im, a, \"Identity\")\n",
    "convolve(im, b, \"Box blur\", 9)\n",
    "convolve(im, c, \"Horizontal derivative\")\n",
    "convolve(im, d, \"Gaussian\")\n",
    "convolve(im, e, \"Sharpening\")\n",
    "convolve(im, f, \"Derivative of Gaussian\")"
   ]
  },
  {
   "cell_type": "code",
   "execution_count": 12,
   "metadata": {},
   "outputs": [],
   "source": [
    "# result = im.filter(ImageFilter.Kernel((5,5),e.flatten())) \n",
    "# result.show()"
   ]
  },
  {
   "cell_type": "code",
   "execution_count": 13,
   "metadata": {},
   "outputs": [],
   "source": [
    "# result = im.filter(ImageFilter.Kernel((5,5),[0.003,0.013,0.022,0.013,0.003,0.013,0.059,0.097,0.059,0.013,0.022,0.097,0.159,0.097,0.022,0.013,0.059,0.097,0.059,0.013,0.003,0.013,0.022,0.013,0.003])) \n",
    "# result.show()"
   ]
  }
 ],
 "metadata": {
  "kernelspec": {
   "display_name": "Python 3",
   "language": "python",
   "name": "python3"
  },
  "language_info": {
   "codemirror_mode": {
    "name": "ipython",
    "version": 3
   },
   "file_extension": ".py",
   "mimetype": "text/x-python",
   "name": "python",
   "nbconvert_exporter": "python",
   "pygments_lexer": "ipython3",
   "version": "3.7.3"
  }
 },
 "nbformat": 4,
 "nbformat_minor": 2
}
